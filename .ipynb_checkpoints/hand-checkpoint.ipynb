{
 "cells": [
  {
   "cell_type": "code",
   "execution_count": 1,
   "id": "8cfd9be6",
   "metadata": {},
   "outputs": [
    {
     "ename": "ModuleNotFoundError",
     "evalue": "No module named 'mediapipe'",
     "output_type": "error",
     "traceback": [
      "\u001b[1;31m---------------------------------------------------------------------------\u001b[0m",
      "\u001b[1;31mModuleNotFoundError\u001b[0m                       Traceback (most recent call last)",
      "Cell \u001b[1;32mIn[1], line 1\u001b[0m\n\u001b[1;32m----> 1\u001b[0m \u001b[38;5;28;01mimport\u001b[39;00m \u001b[38;5;21;01mmediapipe\u001b[39;00m \u001b[38;5;28;01mas\u001b[39;00m \u001b[38;5;21;01mmp\u001b[39;00m\n\u001b[0;32m      2\u001b[0m \u001b[38;5;28;01mimport\u001b[39;00m \u001b[38;5;21;01mcv2\u001b[39;00m\n\u001b[0;32m      3\u001b[0m \u001b[38;5;28;01mimport\u001b[39;00m \u001b[38;5;21;01mnumpy\u001b[39;00m \u001b[38;5;28;01mas\u001b[39;00m \u001b[38;5;21;01mnp\u001b[39;00m\n",
      "\u001b[1;31mModuleNotFoundError\u001b[0m: No module named 'mediapipe'"
     ]
    }
   ],
   "source": [
    "import mediapipe as mp\n",
    "import cv2\n",
    "import numpy as np\n",
    "import uuid\n",
    "import os\n",
    "import keras\n",
    "from keras.models import Sequential\n",
    "from keras.layers import Conv2D, MaxPooling2D, Flatten, Dense\n",
    "import tensorflow as tf\n",
    "from keras.models import model_from_json"
   ]
  },
  {
   "cell_type": "code",
   "execution_count": null,
   "id": "7be6cffc",
   "metadata": {},
   "outputs": [],
   "source": [
    "signs = {0: \"eight\", 1: \"eleven_2\", 2: \"eleven_3\", 3: \"fifty_1\", 4: \"fifty_2\", 5: \"fifty_3\", 6: \"five\", 7: \"four & fourteen\", \n",
    "         8: \"fourteen_1\", 9: \"fourteen_3\", 10: \"nine\", 11: \"one & ten_2 & eleven_1\", 12: \"seven\", 13: \"six\", 14: \"ten_1\", \n",
    "         15: \"ten_3\", 16: \"thirteen_1\", 17: \"thirteen_3\", 18: \"thirty_1\", 19: \"thirty_2\", 20: \"thirty_3\", \n",
    "         21: \"three & thirteen_2\", 22: \"twenty_1\", 23: \"twenty_2\", 24: \"twenty_3\", 25: \"two\", 26: \"what\", 27: \"when_1\", \n",
    "         28: \"when_2\", 29: \"when_3\", 30: \"who\", 31: \"why\"}\n",
    "\n",
    "sign_model = open('CNN_model.json', 'r')\n",
    "loaded_json = sign_model.read()\n",
    "sign_model.close()\n",
    "sign_language_model = model_from_json(loaded_json)\n",
    "# weights = np.load('model_weights.npy', allow_pickle=True)\n",
    "# print('Original data shape:', loaded_json)\n",
    "\n",
    "sign_language_model.load_weights(\"CNN_model.h5\")\n",
    "\n",
    "# if weights.shape != (32, 48, 64, 3):\n",
    "# weights = np.reshape(weights, (1, 10, 1, 1))\n",
    "# print('Reshaped data shape:', weights.shape)"
   ]
  },
  {
   "cell_type": "code",
   "execution_count": null,
   "id": "cd3a3e4c",
   "metadata": {},
   "outputs": [],
   "source": [
    "# model = tf.keras.Sequential([\n",
    "#     tf.keras.layers.Conv2D(32, (3, 3), activation='relu', input_shape=(64, 48, 6)),\n",
    "#     tf.keras.layers.MaxPooling2D((2, 2)),\n",
    "#     tf.keras.layers.Flatten(),\n",
    "#     tf.keras.layers.Dense(64, activation='relu'),\n",
    "#     tf.keras.layers.Dense(10, activation='softmax')\n",
    "# ])\n",
    "\n",
    "# # Load the saved weights into the model\n",
    "# model.set_weights(weights)\n",
    "\n",
    "# model.compile(optimizer='adam', loss='categorical_crossentropy', metrics=['accuracy'])"
   ]
  },
  {
   "cell_type": "code",
   "execution_count": null,
   "id": "1507ee55",
   "metadata": {},
   "outputs": [],
   "source": [
    "cap = cv2.VideoCapture(0)\n",
    "\n",
    "mp_drawing = mp.solutions.drawing_utils\n",
    "mp_hands = mp.solutions.hands\n",
    "\n",
    "with mp_hands.Hands(min_detection_confidence = 0.8, min_tracking_confidence = 0.5) as hands:\n",
    "\n",
    "    while cap.isOpened():\n",
    "        ret, frame = cap.read()\n",
    "        \n",
    "        # changing from BGR to RGB\n",
    "        frame = cv2.cvtColor(frame, cv2.COLOR_BGR2RGB)\n",
    "        frame = cv2.resize(frame, (1280, 720))\n",
    "        \n",
    "        # flipping the frame\n",
    "        frame = cv2.flip(frame, 1)\n",
    "        frame.flags.writeable = False\n",
    "        \n",
    "        # hand detections\n",
    "        results = hands.process(frame)\n",
    "        frame.flags.writeable = True\n",
    "        \n",
    "        # changing from RGB to BGR\n",
    "        frame = cv2.cvtColor(frame, cv2.COLOR_RGB2BGR)\n",
    "#         print(results)\n",
    "        \n",
    "        if results.multi_hand_landmarks:\n",
    "            for num, hand in enumerate(results.multi_hand_landmarks):\n",
    "                mp_drawing.draw_landmarks(frame, hand, mp_hands.HAND_CONNECTIONS,\n",
    "                                         mp_drawing.DrawingSpec(color = (121, 22, 76), thickness = 3, circle_radius = 4),\n",
    "                                         mp_drawing.DrawingSpec(color = (221, 44, 250), thickness = 2, circle_radius = 2),\n",
    "                                         )\n",
    "        \n",
    "        # Preprocessing the input image\n",
    "        frame = cv2.resize(frame, (300, 300))\n",
    "        frame = frame.astype(\"float32\") / 255.0\n",
    "        frame = np.expand_dims(frame, axis=0)\n",
    "                \n",
    "        prediction = sign_language_model.predict(frame)\n",
    "        predicted_sign = signs[np.argmax(prediction)]\n",
    "        maxindex = int(np.argmax(prediction))\n",
    "       \n",
    "        num_hands = 1 # Assume there's only 1 hand in the image\n",
    "        cv2.putText(frame, signs[maxindex], (100, 50), cv2.FONT_HERSHEY_SIMPLEX, 1, (255, 0, 0), 2, cv2.LINE_AA)\n",
    "\n",
    "        # Convert the image back to 8-bit unsigned integer type (from float type)\n",
    "        frame = (frame * 255).astype(\"uint8\")\n",
    "\n",
    "        frame = np.squeeze(frame, axis=0)\n",
    "        cv2.imshow('Sign Detector', frame)\n",
    "        print(signs[maxindex])\n",
    "    \n",
    "        if cv2.waitKey(10) & 0xFF == ord('q'):\n",
    "            break\n",
    "        \n",
    "cap.release()\n",
    "cv2.destroyAllWindows()"
   ]
  },
  {
   "cell_type": "code",
   "execution_count": null,
   "id": "5e4e252c",
   "metadata": {},
   "outputs": [],
   "source": []
  }
 ],
 "metadata": {
  "kernelspec": {
   "display_name": "Python 3 (ipykernel)",
   "language": "python",
   "name": "python3"
  },
  "language_info": {
   "codemirror_mode": {
    "name": "ipython",
    "version": 3
   },
   "file_extension": ".py",
   "mimetype": "text/x-python",
   "name": "python",
   "nbconvert_exporter": "python",
   "pygments_lexer": "ipython3",
   "version": "3.11.2"
  }
 },
 "nbformat": 4,
 "nbformat_minor": 5
}
