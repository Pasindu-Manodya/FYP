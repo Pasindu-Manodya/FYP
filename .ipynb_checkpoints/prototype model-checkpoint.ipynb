{
 "cells": [
  {
   "cell_type": "code",
   "execution_count": 1,
   "id": "ed66f1c7",
   "metadata": {
    "tags": []
   },
   "outputs": [
    {
     "ename": "ImportError",
     "evalue": "cannot import name 'plot_roc_curve' from 'sklearn.metrics' (C:\\Users\\User\\AppData\\Local\\Programs\\Python\\Python311\\Lib\\site-packages\\sklearn\\metrics\\__init__.py)",
     "output_type": "error",
     "traceback": [
      "\u001b[1;31m---------------------------------------------------------------------------\u001b[0m",
      "\u001b[1;31mImportError\u001b[0m                               Traceback (most recent call last)",
      "Cell \u001b[1;32mIn[1], line 5\u001b[0m\n\u001b[0;32m      3\u001b[0m \u001b[38;5;28;01mimport\u001b[39;00m \u001b[38;5;21;01mmatplotlib\u001b[39;00m\u001b[38;5;21;01m.\u001b[39;00m\u001b[38;5;21;01mpyplot\u001b[39;00m \u001b[38;5;28;01mas\u001b[39;00m \u001b[38;5;21;01mplt\u001b[39;00m\n\u001b[0;32m      4\u001b[0m \u001b[38;5;28;01mimport\u001b[39;00m \u001b[38;5;21;01mseaborn\u001b[39;00m \u001b[38;5;28;01mas\u001b[39;00m \u001b[38;5;21;01msns\u001b[39;00m\n\u001b[1;32m----> 5\u001b[0m \u001b[38;5;28;01mfrom\u001b[39;00m \u001b[38;5;21;01msklearn\u001b[39;00m\u001b[38;5;21;01m.\u001b[39;00m\u001b[38;5;21;01mmetrics\u001b[39;00m \u001b[38;5;28;01mimport\u001b[39;00m roc_auc_score, roc_curve, plot_roc_curve\n\u001b[0;32m      6\u001b[0m \u001b[38;5;28;01mfrom\u001b[39;00m \u001b[38;5;21;01msklearn\u001b[39;00m\u001b[38;5;21;01m.\u001b[39;00m\u001b[38;5;21;01mmetrics\u001b[39;00m \u001b[38;5;28;01mimport\u001b[39;00m classification_report\n\u001b[0;32m      7\u001b[0m \u001b[38;5;28;01mfrom\u001b[39;00m \u001b[38;5;21;01msklearn\u001b[39;00m\u001b[38;5;21;01m.\u001b[39;00m\u001b[38;5;21;01mmetrics\u001b[39;00m \u001b[38;5;28;01mimport\u001b[39;00m roc_curve, auc\n",
      "\u001b[1;31mImportError\u001b[0m: cannot import name 'plot_roc_curve' from 'sklearn.metrics' (C:\\Users\\User\\AppData\\Local\\Programs\\Python\\Python311\\Lib\\site-packages\\sklearn\\metrics\\__init__.py)"
     ]
    }
   ],
   "source": [
    "import numpy as np\n",
    "import keras\n",
    "import matplotlib.pyplot as plt\n",
    "import seaborn as sns\n",
    "from sklearn.metrics import roc_auc_score, roc_curve, plot_roc_curve\n",
    "from sklearn.metrics import classification_report\n",
    "from sklearn.metrics import roc_curve, auc\n",
    "from keras.models import Sequential as SQ\n",
    "from keras.preprocessing.image import ImageDataGenerator\n",
    "from keras.layers import Conv2D, MaxPooling2D, Flatten, Dense\n",
    "from sklearn.metrics import confusion_matrix"
   ]
  },
  {
   "cell_type": "code",
   "execution_count": null,
   "id": "e4402f1d",
   "metadata": {
    "tags": []
   },
   "outputs": [],
   "source": [
    "# data generator with augmentation\n",
    "\n",
    "data_generator = ImageDataGenerator(\n",
    "    rescale = (1./255) ,\n",
    "    rotation_range = 45,\n",
    "    width_shift_range = 0.2,\n",
    "    height_shift_range = 0.2,\n",
    "    zoom_range = (0.5, 1.0),\n",
    "#     target_size=(64, 48)\n",
    ")"
   ]
  },
  {
   "cell_type": "code",
   "execution_count": null,
   "id": "24681b7e",
   "metadata": {},
   "outputs": [],
   "source": [
    "# loading images from train\n",
    "\n",
    "train_images = data_generator.flow_from_directory(\n",
    "    'dataset/train',\n",
    "    target_size = (300, 300),\n",
    "    batch_size = 32,\n",
    "    color_mode = 'rgb',\n",
    "    class_mode = 'categorical'\n",
    ")\n"
   ]
  },
  {
   "cell_type": "code",
   "execution_count": null,
   "id": "ad7c1d36",
   "metadata": {},
   "outputs": [],
   "source": [
    "# loading images from test\n",
    "\n",
    "test_images = data_generator.flow_from_directory(\n",
    "    'dataset/test',\n",
    "    target_size = (300, 300),\n",
    "    batch_size = 32,\n",
    "    color_mode = 'rgb',\n",
    "    class_mode = 'categorical'\n",
    ")"
   ]
  },
  {
   "cell_type": "code",
   "execution_count": null,
   "id": "6a451842",
   "metadata": {},
   "outputs": [],
   "source": [
    "# initiating the model\n",
    "\n",
    "model = SQ()\n",
    "\n",
    "# Define the model architecture\n",
    "\n",
    "model.add(Conv2D(32, (3, 3), activation='relu', input_shape=(300, 300, 3)))\n",
    "model.add(MaxPooling2D((2, 2)))\n",
    "model.add(Conv2D(64, (3, 3), activation='relu'))\n",
    "model.add(MaxPooling2D((2, 2)))\n",
    "model.add(Conv2D(128, (3, 3), activation='relu'))\n",
    "model.add(MaxPooling2D((2, 2)))\n",
    "model.add(Flatten())\n",
    "model.add(Dense(128, activation='relu'))\n",
    "model.add(Dense(32, activation='softmax'))\n"
   ]
  },
  {
   "cell_type": "code",
   "execution_count": null,
   "id": "a835e865",
   "metadata": {},
   "outputs": [],
   "source": [
    "# intialising the opimizer \n",
    "\n",
    "model.compile(loss = 'categorical_crossentropy',\n",
    "             optimizer = 'adam',\n",
    "             metrics = ['Accuracy']) "
   ]
  },
  {
   "cell_type": "code",
   "execution_count": null,
   "id": "526b7bc9",
   "metadata": {},
   "outputs": [],
   "source": [
    "# Train the model\n",
    "model_training = model.fit(train_images, \n",
    "                           steps_per_epoch = 10298 // 32,\n",
    "                           epochs = 15, \n",
    "                           validation_data = test_images,\n",
    "                           validation_steps = 1158 //32)\n"
   ]
  },
  {
   "cell_type": "code",
   "execution_count": null,
   "id": "307ea648",
   "metadata": {},
   "outputs": [],
   "source": [
    "Sign_json_file = model.to_json()\n",
    "with open(\"CNN_model.json\", \"w\") as json_file:\n",
    "    json_file.write(Sign_json_file)\n",
    "weights = model.get_weights()\n",
    "np.save('model_weights.npy', weights)\n",
    "model.save_weights('CNN_model.h5')"
   ]
  },
  {
   "cell_type": "code",
   "execution_count": null,
   "id": "1f061d26",
   "metadata": {},
   "outputs": [],
   "source": [
    "# Evaluate the model\n",
    "score = model.evaluate(test_images, verbose=0)\n",
    "print('Test loss:', score[0])\n",
    "print('Test accuracy:', score[1])"
   ]
  },
  {
   "cell_type": "code",
   "execution_count": null,
   "id": "0d8240d0",
   "metadata": {},
   "outputs": [],
   "source": [
    "# plotting the training and validation accuracy\n",
    "\n",
    "accuracy = model_training.history['Accuracy']\n",
    "# val_acc = model_training.history['val_accuracy']\n",
    "loss = model_training.history['loss']\n",
    "# val_loss = model_training.history['val_loss']\n",
    "\n",
    "epochs = range(len(accuracy))\n",
    "\n",
    "figure = plt.figure(figsize=(14, 7))\n",
    "\n",
    "# Plotting accuracy\n",
    "plt.plot(epochs, accuracy, 'r', label='Accuracy of Training')\n",
    "# plt.plot(epochs, val_acc, 'b', label='Accuracy of Validation')\n",
    "plt.xlabel('Number of Epochs')\n",
    "plt.ylabel('Accuracy Rate')\n",
    "plt.title('Accuracy of Training and Validation')\n",
    "plt.legend(loc='lower right')\n",
    "\n",
    "plt.figure(figsize=(14, 7))\n",
    "\n",
    "# Plotting loss\n",
    "plt.plot(epochs, loss, 'r', label='Loss of Training')\n",
    "# plt.plot(epochs, val_loss, 'b', label='Loss of Validation')\n",
    "plt.xlabel('Number of Epochs')\n",
    "plt.ylabel('Loss Value')\n",
    "plt.title('Loss of Training and Validation')\n",
    "plt.legend(loc='upper right')\n",
    "\n",
    "plt.show()\n"
   ]
  },
  {
   "cell_type": "code",
   "execution_count": null,
   "id": "ad0c1376",
   "metadata": {},
   "outputs": [],
   "source": [
    "# confusion matrix\n",
    "\n",
    "# Get predictions on test data\n",
    "y_pred_prob = model.predict(test_images)\n",
    "\n",
    "# Convert the predictions to class labels\n",
    "test_pred_classes = np.argmax(y_pred_prob, axis = 1)\n",
    "\n",
    "# Get the true class labels of the test images\n",
    "true_classes = test_images.classes.flatten()\n",
    "\n",
    "# Generate confusion matrix\n",
    "cm = confusion_matrix(true_classes, test_pred_classes)\n",
    "\n",
    "# Plot the confusion matrix\n",
    "sns.heatmap(cm, annot=True)\n",
    "plt.show()\n",
    "print (cm)"
   ]
  },
  {
   "cell_type": "code",
   "execution_count": null,
   "id": "6d6557df",
   "metadata": {},
   "outputs": [],
   "source": [
    "# auroc = roc_auc_score(true_classes, y_pred_prob, multi_class='ovr')\n",
    "\n",
    "# # Plot ROC curves for each class\n",
    "# fig, ax = plt.subplots()\n",
    "# plot_roc_curve(auroc, true_classes, test_pred_classes, ax=ax, name='Multi-class ROC curve', micro=False)\n",
    "# ax.set_title('Multi-class ROC Curve')\n",
    "# ax.set_xlabel('False Positive Rate')\n",
    "# ax.set_ylabel('True Positive Rate')\n",
    "# plt.show()\n",
    "\n",
    "\n",
    "n_classes = 32\n",
    "fpr = {}\n",
    "tpr = {}\n",
    "roc_auc = {}\n",
    "for i in range(n_classes):\n",
    "    fpr[i], tpr[i], _ = roc_curve(true_classes == i, y_pred_prob[:, i])\n",
    "    roc_auc[i] = roc_auc_score(true_classes == i, y_pred_prob[:, i])\n",
    "\n",
    "# Plot the ROC curves\n",
    "fig, ax = plt.subplots(figsize=(15, 12))\n",
    "for i in range(n_classes):\n",
    "    ax.plot(fpr[i], tpr[i], label='Class {0} (AUC = {1:0.2f})'\n",
    "             ''.format(i, roc_auc[i]))\n",
    "\n",
    "ax.plot([0, 1], [0, 1], 'k--')\n",
    "ax.set_xlim([0.0, 1.0])\n",
    "ax.set_ylim([0.0, 1.05])\n",
    "ax.set_xlabel('False Positive Rate')\n",
    "ax.set_ylabel('True Positive Rate')\n",
    "ax.set_title('Multi-class ROC Curves')\n",
    "ax.legend(loc=\"lower right\")\n",
    "plt.show()"
   ]
  },
  {
   "cell_type": "code",
   "execution_count": null,
   "id": "2f711564",
   "metadata": {},
   "outputs": [],
   "source": [
    "# classification report\n",
    "\n",
    "class_report = classification_report(true_classes, test_pred_classes)\n",
    "print(class_report)"
   ]
  },
  {
   "cell_type": "code",
   "execution_count": null,
   "id": "3e546b21",
   "metadata": {},
   "outputs": [],
   "source": []
  }
 ],
 "metadata": {
  "kernelspec": {
   "display_name": "Python 3 (ipykernel)",
   "language": "python",
   "name": "python3"
  },
  "language_info": {
   "codemirror_mode": {
    "name": "ipython",
    "version": 3
   },
   "file_extension": ".py",
   "mimetype": "text/x-python",
   "name": "python",
   "nbconvert_exporter": "python",
   "pygments_lexer": "ipython3",
   "version": "3.11.2"
  }
 },
 "nbformat": 4,
 "nbformat_minor": 5
}
